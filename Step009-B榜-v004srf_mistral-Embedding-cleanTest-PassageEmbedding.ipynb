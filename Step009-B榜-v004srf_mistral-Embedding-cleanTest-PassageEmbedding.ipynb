{
 "cells": [
  {
   "cell_type": "code",
   "execution_count": 7,
   "id": "47b56755-cdf8-44af-8835-f4b61d49063f",
   "metadata": {
    "tags": []
   },
   "outputs": [],
   "source": [
    "clean = True"
   ]
  },
  {
   "cell_type": "markdown",
   "id": "28352ae6-293c-4c17-b857-aee59f9cb451",
   "metadata": {},
   "source": [
    "# srf-mistral 进行 embedding 编码 \n",
    "\n",
    "模型的总参数量: 7110660096"
   ]
  },
  {
   "cell_type": "code",
   "execution_count": 8,
   "id": "d936b037-762d-4693-bf1f-4f8ace8dd416",
   "metadata": {
    "tags": []
   },
   "outputs": [],
   "source": [
    "import os\n",
    "os.environ['CUDA_VISIBLE_DEVICES'] = '0'\n",
    "\n",
    "import gc \n",
    "import ctypes\n",
    "import torch\n",
    "import torch.nn.functional as F\n",
    "from torch import Tensor\n",
    "from transformers import AutoTokenizer, AutoModel\n",
    "\n",
    "import json\n",
    "import pandas as pd \n",
    "import re\n",
    "from torch.utils.data import DataLoader\n",
    "from tqdm.auto import tqdm\n",
    "import numpy as np \n",
    "import pickle\n",
    "\n",
    "def clean_memory():\n",
    "    gc.collect()\n",
    "    ctypes.CDLL(\"libc.so.6\").malloc_trim(0)\n",
    "    torch.cuda.empty_cache()"
   ]
  },
  {
   "cell_type": "code",
   "execution_count": 9,
   "id": "77fc8b6f-805e-42f1-9b0c-16254d731e6c",
   "metadata": {
    "tags": []
   },
   "outputs": [],
   "source": [
    "BATCH_SIZE = 32"
   ]
  },
  {
   "cell_type": "markdown",
   "id": "9de898c5-e9a7-49e2-b649-434342438252",
   "metadata": {},
   "source": [
    "## question embedding "
   ]
  },
  {
   "cell_type": "code",
   "execution_count": 10,
   "id": "05a73116-584b-48bd-ab36-66b1f86154b2",
   "metadata": {
    "tags": []
   },
   "outputs": [],
   "source": [
    "def last_token_pool(last_hidden_states: Tensor,\n",
    "                    attention_mask: Tensor) -> Tensor:\n",
    "    left_padding = (attention_mask[:, -1].sum() == attention_mask.shape[0])\n",
    "    if left_padding:\n",
    "        return last_hidden_states[:, -1]\n",
    "    else:\n",
    "        sequence_lengths = attention_mask.sum(dim=1) - 1\n",
    "        batch_size = last_hidden_states.shape[0]\n",
    "        return last_hidden_states[torch.arange(batch_size, device=last_hidden_states.device), sequence_lengths]\n",
    "\n",
    "def get_detailed_instruct(task_description: str, query: str) -> str:\n",
    "    return f'Instruct: {task_description}\\nQuery: {query}'\n",
    "\n",
    "\n",
    "def encode_questions_SFR_Embedding_Mistral(df): \n",
    "    df = df.fillna('')\n",
    "    \n",
    "    ## model \n",
    "    model_path = '/mntdata/wangql43/A000Files/A003Model/recallModel/SFR-Embedding-Mistral/'\n",
    "    tokenizer = AutoTokenizer.from_pretrained(model_path)\n",
    "    model = AutoModel.from_pretrained(model_path)\n",
    "    model.eval()\n",
    "    model.to(f'cuda') \n",
    "    \n",
    "    ## encode \n",
    "    # Each query must come with a one-sentence instruction that describes the task\n",
    "    # task = 'Given Question and The Detailed Analysis of the Question, retrieve most relevant Title and Abstract that answer the Question.'\n",
    "    task = 'Please retrieve and provide the most relevant title and abstract of literature based on the user’s specific question and its detailed analysis. Ensure a deep understanding of the question’s underlying meaning, and prioritize the accuracy and relevance of the information in the returned results.'\n",
    "    # task = 'Retrieve the most pertinent title and abstract addressing the user’s question and its analysis, emphasizing understanding, accuracy, and relevance.'\n",
    "    \n",
    "    ## df -- Query \n",
    "    queries = []\n",
    "    for _, row in df.iterrows():\n",
    "        text =  f\"Question: {row.question}\\n\\n The Detailed Analysis of the Question: {row.body}\"\n",
    "        queries.append(get_detailed_instruct(task, text)) \n",
    "    \n",
    "    ## dl \n",
    "    max_length = 2048\n",
    "    input_texts = queries \n",
    "    dataloader = DataLoader(\n",
    "        input_texts, batch_size=BATCH_SIZE, num_workers=16,\n",
    "        collate_fn=lambda batch: tokenizer(batch, max_length=max_length, padding=True, truncation=True, return_tensors='pt')\n",
    "    )\n",
    "    \n",
    "    ## model \n",
    "    embeddings = []\n",
    "    with torch.no_grad():\n",
    "        with torch.autocast(device_type='cuda'):\n",
    "            for batch in tqdm(dataloader):\n",
    "                model_output = model(**batch.to(model.device))\n",
    "                sentence_embeddings = last_token_pool(model_output.last_hidden_state, batch['attention_mask'])\n",
    "                sentence_embeddings = torch.nn.functional.normalize(sentence_embeddings, p=2, dim=1)\n",
    "                embeddings.append(sentence_embeddings)\n",
    "    embeddings = torch.cat(embeddings, dim=0).cpu().numpy().astype(np.float16)\n",
    "    \n",
    "    clean_memory()\n",
    "        \n",
    "    return embeddings"
   ]
  },
  {
   "cell_type": "code",
   "execution_count": 11,
   "id": "4c8d655e-16a1-45e4-9d00-db5765abc109",
   "metadata": {
    "tags": []
   },
   "outputs": [],
   "source": [
    "## 读取数据的内容 \n",
    "def read_train_valid_test(path): \n",
    "    data = []\n",
    "    \n",
    "    assert path.endswith('.txt')\n",
    "    # 打开并逐行读取txt文件\n",
    "    with open(path, 'r') as f:\n",
    "        for line in f:\n",
    "            # 使用json.loads将每一行转换为字典\n",
    "            data.append(json.loads(line))\n",
    "            \n",
    "    ## 转换成 df 格式 \n",
    "    data = pd.DataFrame(data)\n",
    "    return data \n",
    "\n",
    "def read_json_to_df(json_path): \n",
    "    # 打开json文件\n",
    "    with open(json_path, 'r') as file:\n",
    "        # 解析json文件\n",
    "        data = json.load(file)\n",
    "    ## json --> df \n",
    "    data = pd.DataFrame(data).T.reset_index(names=['pids'])\n",
    "    return data\n",
    "\n",
    "\n",
    "## 清洗数据 \n",
    "def clean_body_remove_symbol(text): \n",
    "    ## clean_body_remove_symbol(text) \n",
    "    text = re.sub('<[^<]+?>', ' ', text).replace('\\n', '').strip()\n",
    "    text = re.sub(r'\\s+', ' ', text)\n",
    "    text = text.replace('http://', '').replace('https://', '').replace('.com', '').replace('.cn', '')\n",
    "    return text "
   ]
  },
  {
   "cell_type": "code",
   "execution_count": 12,
   "id": "6a4add50-4649-4608-bd9c-c59c9b5a82ff",
   "metadata": {
    "tags": []
   },
   "outputs": [],
   "source": [
    "## \n",
    "testpath = 'data/AQA-test-public/qa_test_wo_ans_new.txt'\n",
    "test = read_train_valid_test(testpath)\n",
    "(test['question'] + '\\n' + test['body']).apply(lambda x : len(x.split(' '))).describe()\n",
    "\n",
    "## 是否需要清洗 \n",
    "if clean: \n",
    "    test['body'] = test['body'].apply(clean_body_remove_symbol)"
   ]
  },
  {
   "cell_type": "code",
   "execution_count": 14,
   "id": "7ef59b63-6fcc-44e1-8430-062682a80f71",
   "metadata": {
    "tags": []
   },
   "outputs": [
    {
     "data": {
      "application/vnd.jupyter.widget-view+json": {
       "model_id": "6b1d96b662e7410f9727716d697b0c48",
       "version_major": 2,
       "version_minor": 0
      },
      "text/plain": [
       "Loading checkpoint shards:   0%|          | 0/3 [00:00<?, ?it/s]"
      ]
     },
     "metadata": {},
     "output_type": "display_data"
    },
    {
     "data": {
      "application/vnd.jupyter.widget-view+json": {
       "model_id": "745f84bc371e47b9a5d6cd31702802a2",
       "version_major": 2,
       "version_minor": 0
      },
      "text/plain": [
       "  0%|          | 0/94 [00:01<?, ?it/s]"
      ]
     },
     "metadata": {},
     "output_type": "display_data"
    }
   ],
   "source": [
    "clean_memory()\n",
    "if clean: \n",
    "    srf_mistral_embeddings = encode_questions_SFR_Embedding_Mistral(test) \n",
    "    with open(f'outslgb/encoded_question_srf_mistral_test.pkl', 'wb') as f:\n",
    "        pickle.dump(srf_mistral_embeddings, f)\n",
    "    clean_memory()\n",
    "else: \n",
    "    srf_mistral_embeddings = encode_questions_SFR_Embedding_Mistral(test) \n",
    "    with open(f'outslgb/encoded_question_srf_mistral-NoClean_test.pkl', 'wb') as f:\n",
    "        pickle.dump(srf_mistral_embeddings, f)\n",
    "    clean_memory()"
   ]
  },
  {
   "cell_type": "code",
   "execution_count": null,
   "id": "ecc545a2-a0e4-48bf-b229-71381f294cd0",
   "metadata": {},
   "outputs": [],
   "source": []
  },
  {
   "cell_type": "markdown",
   "id": "50da0685-7972-4c60-8870-fb9a22c6caf4",
   "metadata": {},
   "source": [
    "# passageJson embedding "
   ]
  },
  {
   "cell_type": "code",
   "execution_count": 9,
   "id": "bd209e75-8e44-4e9d-8d56-89f80b49953b",
   "metadata": {
    "execution": {
     "iopub.execute_input": "2024-06-01T09:24:45.751907Z",
     "iopub.status.busy": "2024-06-01T09:24:45.751218Z",
     "iopub.status.idle": "2024-06-01T09:24:45.759576Z",
     "shell.execute_reply": "2024-06-01T09:24:45.758729Z"
    },
    "tags": []
   },
   "outputs": [],
   "source": [
    "def encode_passageJson_SFR_Embedding_Mistral(df): \n",
    "    df = df.fillna('')\n",
    "    \n",
    "    ## model \n",
    "    model_path = '/mntdata/wangql43/A000Files/A003Model/recallModel/SFR-Embedding-Mistral/'\n",
    "    tokenizer = AutoTokenizer.from_pretrained(model_path)\n",
    "    model = AutoModel.from_pretrained(model_path).eval().to(f'cuda') \n",
    "    \n",
    "    ## encode \n",
    "    # Each query must come with a one-sentence instruction that describes the task\n",
    "    task = \"Represent the Title and Abstract for Paper Searching. \"\n",
    "    \n",
    "    ## df -- Query \n",
    "    queries = []\n",
    "    for _, row in df.iterrows():\n",
    "        text =  f\"Title: {row.title}\\n\\n The Abstract of the Title: {row.abstract}\"\n",
    "        queries.append(get_detailed_instruct(task, text)) \n",
    "    \n",
    "    ## dl \n",
    "    max_length = 2048\n",
    "    input_texts = queries \n",
    "    dataloader = DataLoader(\n",
    "        input_texts, batch_size=BATCH_SIZE, num_workers=16,\n",
    "        collate_fn=lambda batch: tokenizer(batch, max_length=max_length, padding=True, truncation=True, return_tensors='pt')\n",
    "    )\n",
    "    \n",
    "    ## model \n",
    "    embeddings = []\n",
    "    with torch.no_grad():\n",
    "        with torch.autocast(device_type='cuda'):\n",
    "            for batch in tqdm(dataloader, total=len(dataloader)):\n",
    "                model_output = model(**batch.to(model.device))\n",
    "                sentence_embeddings = last_token_pool(model_output.last_hidden_state, batch['attention_mask'])\n",
    "                sentence_embeddings = torch.nn.functional.normalize(sentence_embeddings, p=2, dim=1)\n",
    "                embeddings.append(sentence_embeddings)\n",
    "    embeddings = torch.cat(embeddings, dim=0).cpu().numpy().astype(np.float16) \n",
    "    \n",
    "    clean_memory()\n",
    "    \n",
    "    with open(f'outs/encoded_passageJson_srf_mistral_{max_length}.pkl', 'wb') as f:\n",
    "        pickle.dump(embeddings, f)\n",
    "    \n",
    "    pids2embeddings = dict(zip(df['pids'].tolist(), embeddings))\n",
    "    with open(f'outs/encoded_passageJson_srf_mistral_{max_length}_pids2embedding.pkl', 'wb') as f:\n",
    "        pickle.dump(pids2embeddings, f)\n",
    "        \n",
    "    return embeddings"
   ]
  },
  {
   "cell_type": "code",
   "execution_count": 10,
   "id": "951c8700-194b-45a8-935b-1b3a0753451f",
   "metadata": {
    "execution": {
     "iopub.execute_input": "2024-06-01T09:24:45.762797Z",
     "iopub.status.busy": "2024-06-01T09:24:45.762119Z",
     "iopub.status.idle": "2024-06-01T09:25:40.311956Z",
     "shell.execute_reply": "2024-06-01T09:25:40.311161Z"
    },
    "tags": []
   },
   "outputs": [],
   "source": [
    "## json  \n",
    "json_path = 'data/AQA/pid_to_title_abs_new.json'\n",
    "df_json_old = read_json_to_df(json_path) \n",
    "\n",
    "json_path = 'data/AQA-test-public/pid_to_title_abs_update_filter.json'\n",
    "df_json_new = read_json_to_df(json_path) \n",
    "\n",
    "len(set(df_json_new['pids']).difference(set(df_json_old['pids'])))\n",
    "df_json = pd.merge(df_json_new, df_json_old, how='outer', on=['pids', 'title', 'abstract'])\n",
    "\n",
    "del df_json_new, df_json_old"
   ]
  },
  {
   "cell_type": "code",
   "execution_count": 11,
   "id": "41d330d4-5ec7-47c9-a282-9f093cb81592",
   "metadata": {
    "execution": {
     "iopub.execute_input": "2024-06-01T09:25:40.316399Z",
     "iopub.status.busy": "2024-06-01T09:25:40.315757Z",
     "iopub.status.idle": "2024-06-01T09:26:08.595938Z",
     "shell.execute_reply": "2024-06-01T09:26:08.595053Z"
    },
    "tags": []
   },
   "outputs": [],
   "source": [
    "## passage 文章清洗 \n",
    "df_json['title'] = df_json['title'].fillna('None').apply(clean_body_remove_symbol) \n",
    "df_json['abstract'] = df_json['abstract'].apply(clean_body_remove_symbol) "
   ]
  },
  {
   "cell_type": "code",
   "execution_count": 12,
   "id": "24941f32-1b4d-4760-a681-52e92e9f17b2",
   "metadata": {
    "execution": {
     "iopub.execute_input": "2024-06-01T09:26:08.600521Z",
     "iopub.status.busy": "2024-06-01T09:26:08.599819Z",
     "iopub.status.idle": "2024-06-01T09:26:08.609465Z",
     "shell.execute_reply": "2024-06-01T09:26:08.608790Z"
    },
    "tags": []
   },
   "outputs": [
    {
     "data": {
      "text/html": [
       "<div>\n",
       "<style scoped>\n",
       "    .dataframe tbody tr th:only-of-type {\n",
       "        vertical-align: middle;\n",
       "    }\n",
       "\n",
       "    .dataframe tbody tr th {\n",
       "        vertical-align: top;\n",
       "    }\n",
       "\n",
       "    .dataframe thead th {\n",
       "        text-align: right;\n",
       "    }\n",
       "</style>\n",
       "<table border=\"1\" class=\"dataframe\">\n",
       "  <thead>\n",
       "    <tr style=\"text-align: right;\">\n",
       "      <th></th>\n",
       "      <th>pids</th>\n",
       "      <th>title</th>\n",
       "      <th>abstract</th>\n",
       "    </tr>\n",
       "  </thead>\n",
       "  <tbody>\n",
       "    <tr>\n",
       "      <th>0</th>\n",
       "      <td>5390877920f70186a0d2cb29</td>\n",
       "      <td>A New Use Of An Automated Reasoning Assistant ...</td>\n",
       "      <td>The field of automated reasoning is an outgrow...</td>\n",
       "    </tr>\n",
       "    <tr>\n",
       "      <th>1</th>\n",
       "      <td>5390877920f70186a0d2cc14</td>\n",
       "      <td>Why AM an EUISKO appear to work.</td>\n",
       "      <td>Seven years ago, the AM program was constructe...</td>\n",
       "    </tr>\n",
       "    <tr>\n",
       "      <th>2</th>\n",
       "      <td>5390877920f70186a0d2cc43</td>\n",
       "      <td>Movement Problems for 2-Dimensional Linkages</td>\n",
       "      <td>NO ABSTRACT SUPPLIED</td>\n",
       "    </tr>\n",
       "    <tr>\n",
       "      <th>3</th>\n",
       "      <td>5390877920f70186a0d2cf01</td>\n",
       "      <td>Amortized efficiency of list update and paging...</td>\n",
       "      <td>In this article we study the amortized efficie...</td>\n",
       "    </tr>\n",
       "    <tr>\n",
       "      <th>4</th>\n",
       "      <td>5390877920f70186a0d2cf9c</td>\n",
       "      <td>Applications Of Symbolic Evaluation</td>\n",
       "      <td>Symbolic evaluation is a program analysis meth...</td>\n",
       "    </tr>\n",
       "  </tbody>\n",
       "</table>\n",
       "</div>"
      ],
      "text/plain": [
       "                       pids  \\\n",
       "0  5390877920f70186a0d2cb29   \n",
       "1  5390877920f70186a0d2cc14   \n",
       "2  5390877920f70186a0d2cc43   \n",
       "3  5390877920f70186a0d2cf01   \n",
       "4  5390877920f70186a0d2cf9c   \n",
       "\n",
       "                                               title  \\\n",
       "0  A New Use Of An Automated Reasoning Assistant ...   \n",
       "1                   Why AM an EUISKO appear to work.   \n",
       "2       Movement Problems for 2-Dimensional Linkages   \n",
       "3  Amortized efficiency of list update and paging...   \n",
       "4                Applications Of Symbolic Evaluation   \n",
       "\n",
       "                                            abstract  \n",
       "0  The field of automated reasoning is an outgrow...  \n",
       "1  Seven years ago, the AM program was constructe...  \n",
       "2                               NO ABSTRACT SUPPLIED  \n",
       "3  In this article we study the amortized efficie...  \n",
       "4  Symbolic evaluation is a program analysis meth...  "
      ]
     },
     "execution_count": 12,
     "metadata": {},
     "output_type": "execute_result"
    }
   ],
   "source": [
    "df_json.head()"
   ]
  },
  {
   "cell_type": "code",
   "execution_count": 13,
   "id": "d2ad9617-c977-4c05-8a9f-b480840a644c",
   "metadata": {
    "execution": {
     "iopub.execute_input": "2024-06-01T09:26:08.612378Z",
     "iopub.status.busy": "2024-06-01T09:26:08.611920Z",
     "iopub.status.idle": "2024-06-01T17:50:26.118008Z",
     "shell.execute_reply": "2024-06-01T17:50:26.116156Z"
    },
    "tags": []
   },
   "outputs": [
    {
     "data": {
      "application/vnd.jupyter.widget-view+json": {
       "model_id": "058e8faa8a194b5b99ccfd8658a9e6ab",
       "version_major": 2,
       "version_minor": 0
      },
      "text/plain": [
       "Loading checkpoint shards:   0%|          | 0/3 [00:00<?, ?it/s]"
      ]
     },
     "metadata": {},
     "output_type": "display_data"
    },
    {
     "data": {
      "application/vnd.jupyter.widget-view+json": {
       "model_id": "d7cc13e02e924924871eaa0e391770c5",
       "version_major": 2,
       "version_minor": 0
      },
      "text/plain": [
       "  0%|          | 0/14575 [00:01<?, ?it/s]"
      ]
     },
     "metadata": {},
     "output_type": "display_data"
    }
   ],
   "source": [
    "srf_mistral_embeddings = encode_passageJson_SFR_Embedding_Mistral(df_json) "
   ]
  },
  {
   "cell_type": "code",
   "execution_count": 14,
   "id": "0072e153-aa2d-4a0a-8ec4-ddff0512b0c2",
   "metadata": {
    "execution": {
     "iopub.execute_input": "2024-06-01T17:50:26.174780Z",
     "iopub.status.busy": "2024-06-01T17:50:26.173908Z",
     "iopub.status.idle": "2024-06-01T17:50:26.834623Z",
     "shell.execute_reply": "2024-06-01T17:50:26.833361Z"
    }
   },
   "outputs": [],
   "source": [
    "## 给passages信息加上 id的映射 \n",
    "df_json['id'] = df_json.index\n",
    "\n",
    "## id2pids\n",
    "id2pids_dict = dict(zip(df_json['id'], df_json['pids']))\n",
    "with open(f'outs/id2pids_dict.pkl', 'wb') as f:\n",
    "    pickle.dump(id2pids_dict, f) \n",
    "\n",
    "## pids2id\n",
    "pids2id_dict = dict(zip(df_json['pids'], df_json['id']))\n",
    "with open(f'outs/pids2id_dict.pkl', 'wb') as f:\n",
    "    pickle.dump(pids2id_dict, f) "
   ]
  },
  {
   "cell_type": "code",
   "execution_count": 15,
   "id": "ad039d02-6f1a-4d38-ac0f-cca856406b73",
   "metadata": {
    "execution": {
     "iopub.execute_input": "2024-06-01T17:50:26.839725Z",
     "iopub.status.busy": "2024-06-01T17:50:26.838805Z",
     "iopub.status.idle": "2024-06-01T17:50:32.905676Z",
     "shell.execute_reply": "2024-06-01T17:50:32.904775Z"
    },
    "tags": []
   },
   "outputs": [],
   "source": [
    "## 读取 embedding \n",
    "with open('outs/encoded_passageJson_srf_mistral_2048.pkl', 'rb') as f:\n",
    "    passage_embedding = pickle.load(f) "
   ]
  },
  {
   "cell_type": "code",
   "execution_count": 1,
   "id": "a807508c-a84b-444f-b8f2-3662d40fa915",
   "metadata": {
    "tags": []
   },
   "outputs": [
    {
     "name": "stdout",
     "output_type": "stream",
     "text": [
      "Finish !!!\n"
     ]
    }
   ],
   "source": [
    "print('Finish !!!')"
   ]
  },
  {
   "cell_type": "code",
   "execution_count": null,
   "id": "f9f213f8-210d-421a-9f12-9694b820ebf4",
   "metadata": {},
   "outputs": [],
   "source": []
  }
 ],
 "metadata": {
  "kernelspec": {
   "display_name": "Python 3 (ipykernel)",
   "language": "python",
   "name": "python3"
  },
  "language_info": {
   "codemirror_mode": {
    "name": "ipython",
    "version": 3
   },
   "file_extension": ".py",
   "mimetype": "text/x-python",
   "name": "python",
   "nbconvert_exporter": "python",
   "pygments_lexer": "ipython3",
   "version": "3.10.14"
  },
  "widgets": {
   "application/vnd.jupyter.widget-state+json": {
    "state": {
     "02f7d27e2b22485684d63897d46e8f21": {
      "model_module": "@jupyter-widgets/base",
      "model_module_version": "2.0.0",
      "model_name": "LayoutModel",
      "state": {
       "_model_module": "@jupyter-widgets/base",
       "_model_module_version": "2.0.0",
       "_model_name": "LayoutModel",
       "_view_count": null,
       "_view_module": "@jupyter-widgets/base",
       "_view_module_version": "2.0.0",
       "_view_name": "LayoutView",
       "align_content": null,
       "align_items": null,
       "align_self": null,
       "border_bottom": null,
       "border_left": null,
       "border_right": null,
       "border_top": null,
       "bottom": null,
       "display": null,
       "flex": null,
       "flex_flow": null,
       "grid_area": null,
       "grid_auto_columns": null,
       "grid_auto_flow": null,
       "grid_auto_rows": null,
       "grid_column": null,
       "grid_gap": null,
       "grid_row": null,
       "grid_template_areas": null,
       "grid_template_columns": null,
       "grid_template_rows": null,
       "height": null,
       "justify_content": null,
       "justify_items": null,
       "left": null,
       "margin": null,
       "max_height": null,
       "max_width": null,
       "min_height": null,
       "min_width": null,
       "object_fit": null,
       "object_position": null,
       "order": null,
       "overflow": null,
       "padding": null,
       "right": null,
       "top": null,
       "visibility": null,
       "width": null
      }
     },
     "030a5f67e87f48cfaf52bfdfafd207e0": {
      "model_module": "@jupyter-widgets/controls",
      "model_module_version": "2.0.0",
      "model_name": "HTMLStyleModel",
      "state": {
       "_model_module": "@jupyter-widgets/controls",
       "_model_module_version": "2.0.0",
       "_model_name": "HTMLStyleModel",
       "_view_count": null,
       "_view_module": "@jupyter-widgets/base",
       "_view_module_version": "2.0.0",
       "_view_name": "StyleView",
       "background": null,
       "description_width": "",
       "font_size": null,
       "text_color": null
      }
     },
     "058e8faa8a194b5b99ccfd8658a9e6ab": {
      "model_module": "@jupyter-widgets/controls",
      "model_module_version": "2.0.0",
      "model_name": "HBoxModel",
      "state": {
       "_dom_classes": [],
       "_model_module": "@jupyter-widgets/controls",
       "_model_module_version": "2.0.0",
       "_model_name": "HBoxModel",
       "_view_count": null,
       "_view_module": "@jupyter-widgets/controls",
       "_view_module_version": "2.0.0",
       "_view_name": "HBoxView",
       "box_style": "",
       "children": [
        "IPY_MODEL_76529aed4f0043febc19c65f0ad43bd3",
        "IPY_MODEL_eb57c5ae3cbb4e77ab9a456b6194b131",
        "IPY_MODEL_23303a8a214c41c8a7accc3e3904adf3"
       ],
       "layout": "IPY_MODEL_613b7eaf3f3c4d268282fa7356676d13",
       "tabbable": null,
       "tooltip": null
      }
     },
     "1407be004d3e44bf9aa4907f582253bd": {
      "model_module": "@jupyter-widgets/base",
      "model_module_version": "2.0.0",
      "model_name": "LayoutModel",
      "state": {
       "_model_module": "@jupyter-widgets/base",
       "_model_module_version": "2.0.0",
       "_model_name": "LayoutModel",
       "_view_count": null,
       "_view_module": "@jupyter-widgets/base",
       "_view_module_version": "2.0.0",
       "_view_name": "LayoutView",
       "align_content": null,
       "align_items": null,
       "align_self": null,
       "border_bottom": null,
       "border_left": null,
       "border_right": null,
       "border_top": null,
       "bottom": null,
       "display": null,
       "flex": null,
       "flex_flow": null,
       "grid_area": null,
       "grid_auto_columns": null,
       "grid_auto_flow": null,
       "grid_auto_rows": null,
       "grid_column": null,
       "grid_gap": null,
       "grid_row": null,
       "grid_template_areas": null,
       "grid_template_columns": null,
       "grid_template_rows": null,
       "height": null,
       "justify_content": null,
       "justify_items": null,
       "left": null,
       "margin": null,
       "max_height": null,
       "max_width": null,
       "min_height": null,
       "min_width": null,
       "object_fit": null,
       "object_position": null,
       "order": null,
       "overflow": null,
       "padding": null,
       "right": null,
       "top": null,
       "visibility": null,
       "width": null
      }
     },
     "23303a8a214c41c8a7accc3e3904adf3": {
      "model_module": "@jupyter-widgets/controls",
      "model_module_version": "2.0.0",
      "model_name": "HTMLModel",
      "state": {
       "_dom_classes": [],
       "_model_module": "@jupyter-widgets/controls",
       "_model_module_version": "2.0.0",
       "_model_name": "HTMLModel",
       "_view_count": null,
       "_view_module": "@jupyter-widgets/controls",
       "_view_module_version": "2.0.0",
       "_view_name": "HTMLView",
       "description": "",
       "description_allow_html": false,
       "layout": "IPY_MODEL_1407be004d3e44bf9aa4907f582253bd",
       "placeholder": "​",
       "style": "IPY_MODEL_281b3c0793164a579083bd4a8d5b9c5b",
       "tabbable": null,
       "tooltip": null,
       "value": " 3/3 [01:53&lt;00:00, 35.34s/it]"
      }
     },
     "281b3c0793164a579083bd4a8d5b9c5b": {
      "model_module": "@jupyter-widgets/controls",
      "model_module_version": "2.0.0",
      "model_name": "HTMLStyleModel",
      "state": {
       "_model_module": "@jupyter-widgets/controls",
       "_model_module_version": "2.0.0",
       "_model_name": "HTMLStyleModel",
       "_view_count": null,
       "_view_module": "@jupyter-widgets/base",
       "_view_module_version": "2.0.0",
       "_view_name": "StyleView",
       "background": null,
       "description_width": "",
       "font_size": null,
       "text_color": null
      }
     },
     "44bfcba410e7420eb506632c9a4d6d81": {
      "model_module": "@jupyter-widgets/controls",
      "model_module_version": "2.0.0",
      "model_name": "FloatProgressModel",
      "state": {
       "_dom_classes": [],
       "_model_module": "@jupyter-widgets/controls",
       "_model_module_version": "2.0.0",
       "_model_name": "FloatProgressModel",
       "_view_count": null,
       "_view_module": "@jupyter-widgets/controls",
       "_view_module_version": "2.0.0",
       "_view_name": "ProgressView",
       "bar_style": "success",
       "description": "",
       "description_allow_html": false,
       "layout": "IPY_MODEL_ef9bd912cd63480e8408e7835023570c",
       "max": 14575,
       "min": 0,
       "orientation": "horizontal",
       "style": "IPY_MODEL_dfa90e60756c482899fd695fd82f3d16",
       "tabbable": null,
       "tooltip": null,
       "value": 14575
      }
     },
     "48203c46856845b7947ad8e11b7e2133": {
      "model_module": "@jupyter-widgets/controls",
      "model_module_version": "2.0.0",
      "model_name": "ProgressStyleModel",
      "state": {
       "_model_module": "@jupyter-widgets/controls",
       "_model_module_version": "2.0.0",
       "_model_name": "ProgressStyleModel",
       "_view_count": null,
       "_view_module": "@jupyter-widgets/base",
       "_view_module_version": "2.0.0",
       "_view_name": "StyleView",
       "bar_color": null,
       "description_width": ""
      }
     },
     "5e39a7416aa5471899af4f94468dd823": {
      "model_module": "@jupyter-widgets/base",
      "model_module_version": "2.0.0",
      "model_name": "LayoutModel",
      "state": {
       "_model_module": "@jupyter-widgets/base",
       "_model_module_version": "2.0.0",
       "_model_name": "LayoutModel",
       "_view_count": null,
       "_view_module": "@jupyter-widgets/base",
       "_view_module_version": "2.0.0",
       "_view_name": "LayoutView",
       "align_content": null,
       "align_items": null,
       "align_self": null,
       "border_bottom": null,
       "border_left": null,
       "border_right": null,
       "border_top": null,
       "bottom": null,
       "display": null,
       "flex": null,
       "flex_flow": null,
       "grid_area": null,
       "grid_auto_columns": null,
       "grid_auto_flow": null,
       "grid_auto_rows": null,
       "grid_column": null,
       "grid_gap": null,
       "grid_row": null,
       "grid_template_areas": null,
       "grid_template_columns": null,
       "grid_template_rows": null,
       "height": null,
       "justify_content": null,
       "justify_items": null,
       "left": null,
       "margin": null,
       "max_height": null,
       "max_width": null,
       "min_height": null,
       "min_width": null,
       "object_fit": null,
       "object_position": null,
       "order": null,
       "overflow": null,
       "padding": null,
       "right": null,
       "top": null,
       "visibility": null,
       "width": null
      }
     },
     "6029c2f5a9f24b59954d9f348baeff88": {
      "model_module": "@jupyter-widgets/base",
      "model_module_version": "2.0.0",
      "model_name": "LayoutModel",
      "state": {
       "_model_module": "@jupyter-widgets/base",
       "_model_module_version": "2.0.0",
       "_model_name": "LayoutModel",
       "_view_count": null,
       "_view_module": "@jupyter-widgets/base",
       "_view_module_version": "2.0.0",
       "_view_name": "LayoutView",
       "align_content": null,
       "align_items": null,
       "align_self": null,
       "border_bottom": null,
       "border_left": null,
       "border_right": null,
       "border_top": null,
       "bottom": null,
       "display": null,
       "flex": null,
       "flex_flow": null,
       "grid_area": null,
       "grid_auto_columns": null,
       "grid_auto_flow": null,
       "grid_auto_rows": null,
       "grid_column": null,
       "grid_gap": null,
       "grid_row": null,
       "grid_template_areas": null,
       "grid_template_columns": null,
       "grid_template_rows": null,
       "height": null,
       "justify_content": null,
       "justify_items": null,
       "left": null,
       "margin": null,
       "max_height": null,
       "max_width": null,
       "min_height": null,
       "min_width": null,
       "object_fit": null,
       "object_position": null,
       "order": null,
       "overflow": null,
       "padding": null,
       "right": null,
       "top": null,
       "visibility": null,
       "width": null
      }
     },
     "613b7eaf3f3c4d268282fa7356676d13": {
      "model_module": "@jupyter-widgets/base",
      "model_module_version": "2.0.0",
      "model_name": "LayoutModel",
      "state": {
       "_model_module": "@jupyter-widgets/base",
       "_model_module_version": "2.0.0",
       "_model_name": "LayoutModel",
       "_view_count": null,
       "_view_module": "@jupyter-widgets/base",
       "_view_module_version": "2.0.0",
       "_view_name": "LayoutView",
       "align_content": null,
       "align_items": null,
       "align_self": null,
       "border_bottom": null,
       "border_left": null,
       "border_right": null,
       "border_top": null,
       "bottom": null,
       "display": null,
       "flex": null,
       "flex_flow": null,
       "grid_area": null,
       "grid_auto_columns": null,
       "grid_auto_flow": null,
       "grid_auto_rows": null,
       "grid_column": null,
       "grid_gap": null,
       "grid_row": null,
       "grid_template_areas": null,
       "grid_template_columns": null,
       "grid_template_rows": null,
       "height": null,
       "justify_content": null,
       "justify_items": null,
       "left": null,
       "margin": null,
       "max_height": null,
       "max_width": null,
       "min_height": null,
       "min_width": null,
       "object_fit": null,
       "object_position": null,
       "order": null,
       "overflow": null,
       "padding": null,
       "right": null,
       "top": null,
       "visibility": null,
       "width": null
      }
     },
     "6a1c224aab7c43f1851b72238cec3fa1": {
      "model_module": "@jupyter-widgets/base",
      "model_module_version": "2.0.0",
      "model_name": "LayoutModel",
      "state": {
       "_model_module": "@jupyter-widgets/base",
       "_model_module_version": "2.0.0",
       "_model_name": "LayoutModel",
       "_view_count": null,
       "_view_module": "@jupyter-widgets/base",
       "_view_module_version": "2.0.0",
       "_view_name": "LayoutView",
       "align_content": null,
       "align_items": null,
       "align_self": null,
       "border_bottom": null,
       "border_left": null,
       "border_right": null,
       "border_top": null,
       "bottom": null,
       "display": null,
       "flex": null,
       "flex_flow": null,
       "grid_area": null,
       "grid_auto_columns": null,
       "grid_auto_flow": null,
       "grid_auto_rows": null,
       "grid_column": null,
       "grid_gap": null,
       "grid_row": null,
       "grid_template_areas": null,
       "grid_template_columns": null,
       "grid_template_rows": null,
       "height": null,
       "justify_content": null,
       "justify_items": null,
       "left": null,
       "margin": null,
       "max_height": null,
       "max_width": null,
       "min_height": null,
       "min_width": null,
       "object_fit": null,
       "object_position": null,
       "order": null,
       "overflow": null,
       "padding": null,
       "right": null,
       "top": null,
       "visibility": null,
       "width": null
      }
     },
     "74582113dafd48748a9a0afde5996c1b": {
      "model_module": "@jupyter-widgets/base",
      "model_module_version": "2.0.0",
      "model_name": "LayoutModel",
      "state": {
       "_model_module": "@jupyter-widgets/base",
       "_model_module_version": "2.0.0",
       "_model_name": "LayoutModel",
       "_view_count": null,
       "_view_module": "@jupyter-widgets/base",
       "_view_module_version": "2.0.0",
       "_view_name": "LayoutView",
       "align_content": null,
       "align_items": null,
       "align_self": null,
       "border_bottom": null,
       "border_left": null,
       "border_right": null,
       "border_top": null,
       "bottom": null,
       "display": null,
       "flex": null,
       "flex_flow": null,
       "grid_area": null,
       "grid_auto_columns": null,
       "grid_auto_flow": null,
       "grid_auto_rows": null,
       "grid_column": null,
       "grid_gap": null,
       "grid_row": null,
       "grid_template_areas": null,
       "grid_template_columns": null,
       "grid_template_rows": null,
       "height": null,
       "justify_content": null,
       "justify_items": null,
       "left": null,
       "margin": null,
       "max_height": null,
       "max_width": null,
       "min_height": null,
       "min_width": null,
       "object_fit": null,
       "object_position": null,
       "order": null,
       "overflow": null,
       "padding": null,
       "right": null,
       "top": null,
       "visibility": null,
       "width": null
      }
     },
     "75b15590ee57487f9d3759122e22bd16": {
      "model_module": "@jupyter-widgets/controls",
      "model_module_version": "2.0.0",
      "model_name": "HTMLModel",
      "state": {
       "_dom_classes": [],
       "_model_module": "@jupyter-widgets/controls",
       "_model_module_version": "2.0.0",
       "_model_name": "HTMLModel",
       "_view_count": null,
       "_view_module": "@jupyter-widgets/controls",
       "_view_module_version": "2.0.0",
       "_view_name": "HTMLView",
       "description": "",
       "description_allow_html": false,
       "layout": "IPY_MODEL_6029c2f5a9f24b59954d9f348baeff88",
       "placeholder": "​",
       "style": "IPY_MODEL_f7ba2943f8734f9f93dc9281427f6489",
       "tabbable": null,
       "tooltip": null,
       "value": "100%"
      }
     },
     "76529aed4f0043febc19c65f0ad43bd3": {
      "model_module": "@jupyter-widgets/controls",
      "model_module_version": "2.0.0",
      "model_name": "HTMLModel",
      "state": {
       "_dom_classes": [],
       "_model_module": "@jupyter-widgets/controls",
       "_model_module_version": "2.0.0",
       "_model_name": "HTMLModel",
       "_view_count": null,
       "_view_module": "@jupyter-widgets/controls",
       "_view_module_version": "2.0.0",
       "_view_name": "HTMLView",
       "description": "",
       "description_allow_html": false,
       "layout": "IPY_MODEL_5e39a7416aa5471899af4f94468dd823",
       "placeholder": "​",
       "style": "IPY_MODEL_030a5f67e87f48cfaf52bfdfafd207e0",
       "tabbable": null,
       "tooltip": null,
       "value": "Loading checkpoint shards: 100%"
      }
     },
     "9c1d863999da48e588f83eec2f302758": {
      "model_module": "@jupyter-widgets/controls",
      "model_module_version": "2.0.0",
      "model_name": "HTMLStyleModel",
      "state": {
       "_model_module": "@jupyter-widgets/controls",
       "_model_module_version": "2.0.0",
       "_model_name": "HTMLStyleModel",
       "_view_count": null,
       "_view_module": "@jupyter-widgets/base",
       "_view_module_version": "2.0.0",
       "_view_name": "StyleView",
       "background": null,
       "description_width": "",
       "font_size": null,
       "text_color": null
      }
     },
     "ae68b9bb562b4f83a5489cb4eb1b5a46": {
      "model_module": "@jupyter-widgets/controls",
      "model_module_version": "2.0.0",
      "model_name": "HTMLModel",
      "state": {
       "_dom_classes": [],
       "_model_module": "@jupyter-widgets/controls",
       "_model_module_version": "2.0.0",
       "_model_name": "HTMLModel",
       "_view_count": null,
       "_view_module": "@jupyter-widgets/controls",
       "_view_module_version": "2.0.0",
       "_view_name": "HTMLView",
       "description": "",
       "description_allow_html": false,
       "layout": "IPY_MODEL_6a1c224aab7c43f1851b72238cec3fa1",
       "placeholder": "​",
       "style": "IPY_MODEL_9c1d863999da48e588f83eec2f302758",
       "tabbable": null,
       "tooltip": null,
       "value": " 14575/14575 [8:19:00&lt;00:00,  2.26s/it]"
      }
     },
     "d7cc13e02e924924871eaa0e391770c5": {
      "model_module": "@jupyter-widgets/controls",
      "model_module_version": "2.0.0",
      "model_name": "HBoxModel",
      "state": {
       "_dom_classes": [],
       "_model_module": "@jupyter-widgets/controls",
       "_model_module_version": "2.0.0",
       "_model_name": "HBoxModel",
       "_view_count": null,
       "_view_module": "@jupyter-widgets/controls",
       "_view_module_version": "2.0.0",
       "_view_name": "HBoxView",
       "box_style": "",
       "children": [
        "IPY_MODEL_75b15590ee57487f9d3759122e22bd16",
        "IPY_MODEL_44bfcba410e7420eb506632c9a4d6d81",
        "IPY_MODEL_ae68b9bb562b4f83a5489cb4eb1b5a46"
       ],
       "layout": "IPY_MODEL_02f7d27e2b22485684d63897d46e8f21",
       "tabbable": null,
       "tooltip": null
      }
     },
     "dfa90e60756c482899fd695fd82f3d16": {
      "model_module": "@jupyter-widgets/controls",
      "model_module_version": "2.0.0",
      "model_name": "ProgressStyleModel",
      "state": {
       "_model_module": "@jupyter-widgets/controls",
       "_model_module_version": "2.0.0",
       "_model_name": "ProgressStyleModel",
       "_view_count": null,
       "_view_module": "@jupyter-widgets/base",
       "_view_module_version": "2.0.0",
       "_view_name": "StyleView",
       "bar_color": null,
       "description_width": ""
      }
     },
     "eb57c5ae3cbb4e77ab9a456b6194b131": {
      "model_module": "@jupyter-widgets/controls",
      "model_module_version": "2.0.0",
      "model_name": "FloatProgressModel",
      "state": {
       "_dom_classes": [],
       "_model_module": "@jupyter-widgets/controls",
       "_model_module_version": "2.0.0",
       "_model_name": "FloatProgressModel",
       "_view_count": null,
       "_view_module": "@jupyter-widgets/controls",
       "_view_module_version": "2.0.0",
       "_view_name": "ProgressView",
       "bar_style": "success",
       "description": "",
       "description_allow_html": false,
       "layout": "IPY_MODEL_74582113dafd48748a9a0afde5996c1b",
       "max": 3,
       "min": 0,
       "orientation": "horizontal",
       "style": "IPY_MODEL_48203c46856845b7947ad8e11b7e2133",
       "tabbable": null,
       "tooltip": null,
       "value": 3
      }
     },
     "ef9bd912cd63480e8408e7835023570c": {
      "model_module": "@jupyter-widgets/base",
      "model_module_version": "2.0.0",
      "model_name": "LayoutModel",
      "state": {
       "_model_module": "@jupyter-widgets/base",
       "_model_module_version": "2.0.0",
       "_model_name": "LayoutModel",
       "_view_count": null,
       "_view_module": "@jupyter-widgets/base",
       "_view_module_version": "2.0.0",
       "_view_name": "LayoutView",
       "align_content": null,
       "align_items": null,
       "align_self": null,
       "border_bottom": null,
       "border_left": null,
       "border_right": null,
       "border_top": null,
       "bottom": null,
       "display": null,
       "flex": null,
       "flex_flow": null,
       "grid_area": null,
       "grid_auto_columns": null,
       "grid_auto_flow": null,
       "grid_auto_rows": null,
       "grid_column": null,
       "grid_gap": null,
       "grid_row": null,
       "grid_template_areas": null,
       "grid_template_columns": null,
       "grid_template_rows": null,
       "height": null,
       "justify_content": null,
       "justify_items": null,
       "left": null,
       "margin": null,
       "max_height": null,
       "max_width": null,
       "min_height": null,
       "min_width": null,
       "object_fit": null,
       "object_position": null,
       "order": null,
       "overflow": null,
       "padding": null,
       "right": null,
       "top": null,
       "visibility": null,
       "width": null
      }
     },
     "f7ba2943f8734f9f93dc9281427f6489": {
      "model_module": "@jupyter-widgets/controls",
      "model_module_version": "2.0.0",
      "model_name": "HTMLStyleModel",
      "state": {
       "_model_module": "@jupyter-widgets/controls",
       "_model_module_version": "2.0.0",
       "_model_name": "HTMLStyleModel",
       "_view_count": null,
       "_view_module": "@jupyter-widgets/base",
       "_view_module_version": "2.0.0",
       "_view_name": "StyleView",
       "background": null,
       "description_width": "",
       "font_size": null,
       "text_color": null
      }
     }
    },
    "version_major": 2,
    "version_minor": 0
   }
  }
 },
 "nbformat": 4,
 "nbformat_minor": 5
}
