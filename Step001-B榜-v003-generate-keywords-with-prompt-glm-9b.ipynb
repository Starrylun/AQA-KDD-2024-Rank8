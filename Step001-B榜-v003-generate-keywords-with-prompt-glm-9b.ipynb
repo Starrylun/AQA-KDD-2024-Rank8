{
 "cells": [
  {
   "cell_type": "markdown",
   "id": "7912f756-54ba-4e31-9cd5-fffe9f307c82",
   "metadata": {},
   "source": [
    "# glm-4-9b-chat + vllm 部署 + 直接调用 \n",
    "- 速度快，显存在用在 17.5635 GB （vllm）"
   ]
  },
  {
   "cell_type": "code",
   "execution_count": 1,
   "id": "cef0e350-f938-4eea-a25a-5c21aa082b2c",
   "metadata": {
    "tags": []
   },
   "outputs": [
    {
     "name": "stderr",
     "output_type": "stream",
     "text": [
      "2024-06-05 07:06:56,841 - modelscope - INFO - PyTorch version 2.3.0 Found.\n",
      "2024-06-05 07:06:56,847 - modelscope - INFO - TensorFlow version 2.8.4 Found.\n",
      "2024-06-05 07:06:56,848 - modelscope - INFO - Loading ast index from /home/wangql43/.cache/modelscope/ast_indexer\n",
      "2024-06-05 07:06:56,932 - modelscope - INFO - Loading done! Current index file version is 1.13.3, with md5 ad9a4e0d356e8d55478b76171d3ca60c and a total number of 972 components indexed\n",
      "Special tokens have been added in the vocabulary, make sure the associated word embeddings are fine-tuned or trained.\n"
     ]
    },
    {
     "name": "stdout",
     "output_type": "stream",
     "text": [
      "INFO 06-05 07:07:02 llm_engine.py:100] Initializing an LLM engine (v0.4.2) with config: model='/mntdata/wangql43/A000Files/A003Model/ZhipuAI/glm-4-9b-chat/', speculative_config=None, tokenizer='/mntdata/wangql43/A000Files/A003Model/ZhipuAI/glm-4-9b-chat/', skip_tokenizer_init=False, tokenizer_mode=auto, revision=None, tokenizer_revision=None, trust_remote_code=True, dtype=torch.bfloat16, max_seq_len=8192, download_dir=None, load_format=LoadFormat.AUTO, tensor_parallel_size=1, disable_custom_all_reduce=False, quantization=None, enforce_eager=True, kv_cache_dtype=auto, quantization_param_path=None, device_config=cuda, decoding_config=DecodingConfig(guided_decoding_backend='outlines'), seed=0, served_model_name=/mntdata/wangql43/A000Files/A003Model/ZhipuAI/glm-4-9b-chat/)\n"
     ]
    },
    {
     "name": "stderr",
     "output_type": "stream",
     "text": [
      "Special tokens have been added in the vocabulary, make sure the associated word embeddings are fine-tuned or trained.\n"
     ]
    },
    {
     "name": "stdout",
     "output_type": "stream",
     "text": [
      "WARNING 06-05 07:07:03 tokenizer.py:126] Using a slow tokenizer. This might cause a significant slowdown. Consider using a fast tokenizer instead.\n",
      "INFO 06-05 07:07:03 utils.py:660] Found nccl from library /home/wangql43/.config/vllm/nccl/cu12/libnccl.so.2.18.1\n",
      "INFO 06-05 07:07:03 selector.py:27] Using FlashAttention-2 backend.\n",
      "INFO 06-05 07:07:50 model_runner.py:175] Loading model weights took 17.5635 GB\n",
      "INFO 06-05 07:07:51 gpu_executor.py:114] # GPU blocks: 71280, # CPU blocks: 6553\n"
     ]
    }
   ],
   "source": [
    "import os\n",
    "os.environ['CUDA_VISIBLE_DEVICES'] = '0'\n",
    "\n",
    "from modelscope import AutoTokenizer\n",
    "from vllm import LLM, SamplingParams\n",
    "from modelscope import snapshot_download\n",
    "\n",
    "# GLM-4-9B-Chat\n",
    "max_model_len, tp_size = 8192, 1\n",
    "model_name = '/mntdata/wangql43/A000Files/A003Model/ZhipuAI/glm-4-9b-chat/'\n",
    "prompt = '你好'\n",
    "\n",
    "tokenizer = AutoTokenizer.from_pretrained(model_name, trust_remote_code=True)\n",
    "llm = LLM(\n",
    "    model=model_name,\n",
    "    tensor_parallel_size=tp_size,\n",
    "    max_model_len=max_model_len,\n",
    "    trust_remote_code=True,\n",
    "    enforce_eager=True,\n",
    "    gpu_memory_utilization=0.8, \n",
    "    # GLM-4-9B-Chat-1M 如果遇见 OOM 现象，建议开启下述参数\n",
    "    # enable_chunked_prefill=True,\n",
    "    # max_num_batched_tokens=8192\n",
    ")"
   ]
  },
  {
   "cell_type": "code",
   "execution_count": 2,
   "id": "ae4d7122-f74d-412b-97af-bbf92b4664b0",
   "metadata": {
    "tags": []
   },
   "outputs": [
    {
     "name": "stderr",
     "output_type": "stream",
     "text": [
      "Processed prompts: 100%|██████████| 1/1 [00:00<00:00,  2.29it/s]"
     ]
    },
    {
     "name": "stdout",
     "output_type": "stream",
     "text": [
      "['\\n你好👋！很高兴见到你，有什么可以帮助你的吗？']\n"
     ]
    },
    {
     "name": "stderr",
     "output_type": "stream",
     "text": [
      "\n"
     ]
    }
   ],
   "source": [
    "stop_token_ids = [151329, 151336, 151338]\n",
    "sampling_params = SamplingParams(\n",
    "                                temperature=0.45,\n",
    "                                max_tokens=2048,\n",
    "                                top_p=0.7,\n",
    "                                n=1,\n",
    "                                stop_token_ids=stop_token_ids\n",
    ")\n",
    "\n",
    "inputs = tokenizer.apply_chat_template([{'role': 'user', 'content': prompt}], add_generation_prompt=True)[0]\n",
    "outputs = llm.generate(prompt_token_ids=[inputs], sampling_params=sampling_params)\n",
    "\n",
    "generated_text = [output.outputs[0].text for output in outputs]\n",
    "print(generated_text)"
   ]
  },
  {
   "cell_type": "code",
   "execution_count": 3,
   "id": "98c5695c-3dff-4851-a62b-855a39cfa815",
   "metadata": {
    "tags": []
   },
   "outputs": [],
   "source": [
    "def generate_response(tokenizer, llm, sampling_params, prompt): \n",
    "    inputs = tokenizer.apply_chat_template([{'role': 'user', 'content': prompt}], add_generation_prompt=True)[0]\n",
    "    outputs = llm.generate(prompt_token_ids=[inputs], sampling_params=sampling_params)\n",
    "\n",
    "    generated_text = [output.outputs[0].text for output in outputs]\n",
    "    return generated_text"
   ]
  },
  {
   "cell_type": "markdown",
   "id": "f6ce62df-1a91-45dd-8318-682b890edb15",
   "metadata": {
    "tags": []
   },
   "source": [
    "# Lib"
   ]
  },
  {
   "cell_type": "code",
   "execution_count": 4,
   "id": "ef7aefdb-44f6-4aef-aada-6327ad911395",
   "metadata": {
    "tags": []
   },
   "outputs": [],
   "source": [
    "from IPython.core.interactiveshell import InteractiveShell \n",
    "InteractiveShell.ast_node_interactivity = 'all'\n",
    "\n",
    "import glob\n",
    "import pandas as pd\n",
    "import json\n",
    "import re \n",
    "\n",
    "import random \n",
    "random.seed(0)"
   ]
  },
  {
   "cell_type": "markdown",
   "id": "2280c3e4-ef83-44cf-8d58-c921228c0bb2",
   "metadata": {},
   "source": [
    "## 读取数据"
   ]
  },
  {
   "cell_type": "code",
   "execution_count": 5,
   "id": "850b0899-2ecb-433d-adbf-5e18b2fd866d",
   "metadata": {
    "tags": []
   },
   "outputs": [
    {
     "data": {
      "text/plain": [
       "70575"
      ]
     },
     "execution_count": 5,
     "metadata": {},
     "output_type": "execute_result"
    },
    {
     "data": {
      "text/plain": [
       "question    0\n",
       "body        0\n",
       "pids        0\n",
       "dtype: int64"
      ]
     },
     "execution_count": 5,
     "metadata": {},
     "output_type": "execute_result"
    },
    {
     "data": {
      "text/plain": [
       "question    0\n",
       "body        0\n",
       "dtype: int64"
      ]
     },
     "execution_count": 5,
     "metadata": {},
     "output_type": "execute_result"
    },
    {
     "data": {
      "text/plain": [
       "pids        0\n",
       "title       3\n",
       "abstract    0\n",
       "dtype: int64"
      ]
     },
     "execution_count": 5,
     "metadata": {},
     "output_type": "execute_result"
    }
   ],
   "source": [
    "## 读取数据的内容 \n",
    "def read_train_valid_test(path): \n",
    "    data = []\n",
    "    \n",
    "    assert path.endswith('.txt')\n",
    "    # 打开并逐行读取txt文件\n",
    "    with open(path, 'r') as f:\n",
    "        for line in f:\n",
    "            # 使用json.loads将每一行转换为字典\n",
    "            data.append(json.loads(line))\n",
    "            \n",
    "    ## 转换成 df 格式 \n",
    "    data = pd.DataFrame(data)\n",
    "    return data \n",
    "\n",
    "def read_json_to_df(json_path): \n",
    "    # 打开json文件\n",
    "    with open(json_path, 'r') as file:\n",
    "        # 解析json文件\n",
    "        data = json.load(file)\n",
    "    ## json --> df \n",
    "    data = pd.DataFrame(data).T.reset_index(names=['pids'])\n",
    "    return data\n",
    "\n",
    "## 清洗数据 \n",
    "def clean_body_remove_symbol(text): \n",
    "    ## clean_body_remove_symbol(text) \n",
    "    text = re.sub('<[^<]+?>', ' ', text).replace('\\n', '').strip()\n",
    "    text = re.sub(r'\\s+', ' ', text)\n",
    "    text = text.replace('http://', '').replace('https://', '').replace('.com', '').replace('.cn', '')\n",
    "    return text \n",
    "\n",
    "## data\n",
    "trpath = 'data/AQA/qa_train.txt'\n",
    "train = read_train_valid_test(trpath)\n",
    "\n",
    "valpath = 'data/AQA/qa_valid_wo_ans.txt'\n",
    "valid = read_train_valid_test(valpath)\n",
    "\n",
    "testpath = 'data/AQA-test-public/qa_test_wo_ans_new.txt'\n",
    "test = read_train_valid_test(testpath)\n",
    "\n",
    "## json  \n",
    "json_path = 'data/AQA/pid_to_title_abs_new.json'\n",
    "df_json_old = read_json_to_df(json_path) \n",
    "\n",
    "json_path = 'data/AQA-test-public/pid_to_title_abs_update_filter.json'\n",
    "df_json_new = read_json_to_df(json_path) \n",
    "\n",
    "len(set(df_json_new['pids']).difference(set(df_json_old['pids'])))\n",
    "df_json = pd.merge(df_json_new, df_json_old, how='outer', on=['pids', 'title', 'abstract'])\n",
    "\n",
    "del df_json_new, df_json_old\n",
    "\n",
    "##\n",
    "train.isnull().sum()\n",
    "valid.isnull().sum()\n",
    "df_json.isnull().sum()\n",
    "\n",
    "## train 中的 body 内容给定 \n",
    "train['body'] = train['body'].apply(clean_body_remove_symbol)\n",
    "valid['body'] = valid['body'].apply(clean_body_remove_symbol)\n",
    "test['body'] = test['body'].apply(clean_body_remove_symbol)\n",
    "\n",
    "## passage 文章清洗 \n",
    "df_json['title'] = df_json['title'].fillna('None').apply(clean_body_remove_symbol) \n",
    "df_json['abstract'] = df_json['abstract'].apply(clean_body_remove_symbol) \n",
    "\n",
    "df_json = df_json.reset_index()\n",
    "df_json = df_json.rename(columns={'index':'id'}) "
   ]
  },
  {
   "cell_type": "markdown",
   "id": "2c4ef299-c052-4112-af15-aa5768d36e1d",
   "metadata": {
    "tags": []
   },
   "source": [
    "## 生成 keywords "
   ]
  },
  {
   "cell_type": "code",
   "execution_count": 6,
   "id": "fcff688b-306b-40b5-83c0-0fd633b59ace",
   "metadata": {
    "tags": []
   },
   "outputs": [],
   "source": [
    "from tqdm import tqdm\n",
    "from langchain.prompts import PromptTemplate"
   ]
  },
  {
   "cell_type": "code",
   "execution_count": 7,
   "id": "0a84df32-bc32-458c-90a3-c7ecdd8a8bec",
   "metadata": {
    "tags": []
   },
   "outputs": [],
   "source": [
    "keywords_template = '''# CONTEXT #\n",
    "user's question: {question}\n",
    "context information: {body}\n",
    "\n",
    "#############\n",
    "\n",
    "# OBJECTIVE #\n",
    "You are an outstanding technical expert in the field of research paper/document Q&A, with particular expertise in SCI (Science Citation Index), EI (The Engineering Index), IEEE (The Institute of Electrical and Electronics Engineers), Science and etc.\n",
    "\n",
    "Extract keywords from the user's question and context information.\n",
    "\n",
    "Attention: The requirement is to output the keywords only !!!\n",
    "\n",
    "#############\n",
    "\n",
    "# STYLE #\n",
    "Science, Technology, Engineering, Mathematics, \n",
    "physics, chemistry, atmospheric science, biology\n",
    "Natural Language Processing, Machine Learning, Deep Learning\n",
    "Computer Science, Materials, mechanical engineering, electrical and electronic engineering, telecommunications, instrumentation, systems engineering\n",
    "\n",
    "#############\n",
    "\n",
    "# TONE #\n",
    "Keywords, Professional, Serious, Responsible, Accurate, and Precise.\n",
    "\n",
    "#############'''"
   ]
  },
  {
   "cell_type": "code",
   "execution_count": 8,
   "id": "c7e191e7-a4b2-43bc-a0df-d0f455ac15de",
   "metadata": {
    "tags": []
   },
   "outputs": [],
   "source": [
    "row = test.loc[0] \n",
    "keywords_prompt_template = PromptTemplate(input_variables=[\"question\", 'body'], template=keywords_template)  \n",
    "keywords_formatted_prompt = keywords_prompt_template.format(question=row.question, body=row.body) "
   ]
  },
  {
   "cell_type": "code",
   "execution_count": 9,
   "id": "3d393f4e-e2b6-4338-8dd6-a0f1f50337ed",
   "metadata": {
    "scrolled": true,
    "tags": []
   },
   "outputs": [
    {
     "name": "stderr",
     "output_type": "stream",
     "text": [
      "\n",
      "Processed prompts: 100%|██████████| 1/1 [00:00<00:00,  1.20it/s]\u001b[A\n",
      " 96%|█████████▋| 2889/3000 [46:43<01:43,  1.07it/s]\n",
      "Processed prompts:   0%|          | 0/1 [00:00<?, ?it/s]\u001b[A\n",
      "Processed prompts: 100%|██████████| 1/1 [00:00<00:00,  1.10it/s]\u001b[A\n",
      " 96%|█████████▋| 2890/3000 [46:43<01:42,  1.08it/s]\n",
      "Processed prompts:   0%|          | 0/1 [00:00<?, ?it/s]\u001b[A\n",
      "Processed prompts: 100%|██████████| 1/1 [00:00<00:00,  1.51it/s]\u001b[A\n",
      " 96%|█████████▋| 2891/3000 [46:44<01:33,  1.17it/s]\n",
      "Processed prompts:   0%|          | 0/1 [00:00<?, ?it/s]\u001b[A\n",
      "Processed prompts: 100%|██████████| 1/1 [00:00<00:00,  1.12it/s]\u001b[A\n",
      " 96%|█████████▋| 2892/3000 [46:45<01:33,  1.15it/s]\n",
      "Processed prompts:   0%|          | 0/1 [00:00<?, ?it/s]\u001b[A\n",
      "Processed prompts: 100%|██████████| 1/1 [00:01<00:00,  1.36s/it]\u001b[A\n",
      " 96%|█████████▋| 2893/3000 [46:46<01:49,  1.02s/it]\n",
      "Processed prompts:   0%|          | 0/1 [00:00<?, ?it/s]\u001b[A\n",
      "Processed prompts: 100%|██████████| 1/1 [00:01<00:00,  1.07s/it]\u001b[A\n",
      " 96%|█████████▋| 2894/3000 [46:48<01:50,  1.04s/it]\n",
      "Processed prompts:   0%|          | 0/1 [00:00<?, ?it/s]\u001b[A\n",
      "Processed prompts: 100%|██████████| 1/1 [00:00<00:00,  1.46it/s]\u001b[A\n",
      " 96%|█████████▋| 2895/3000 [46:48<01:38,  1.07it/s]\n",
      "Processed prompts:   0%|          | 0/1 [00:00<?, ?it/s]\u001b[A\n",
      "Processed prompts: 100%|██████████| 1/1 [00:00<00:00,  1.45it/s]\u001b[A\n",
      " 97%|█████████▋| 2896/3000 [46:49<01:29,  1.16it/s]\n",
      "Processed prompts:   0%|          | 0/1 [00:00<?, ?it/s]\u001b[A\n",
      "Processed prompts: 100%|██████████| 1/1 [00:00<00:00,  1.01it/s]\u001b[A\n",
      " 97%|█████████▋| 2897/3000 [46:50<01:32,  1.11it/s]\n",
      "Processed prompts:   0%|          | 0/1 [00:00<?, ?it/s]\u001b[A\n",
      "Processed prompts: 100%|██████████| 1/1 [00:01<00:00,  1.13s/it]\u001b[A\n",
      " 97%|█████████▋| 2898/3000 [46:51<01:39,  1.03it/s]\n",
      "Processed prompts:   0%|          | 0/1 [00:00<?, ?it/s]\u001b[A\n",
      "Processed prompts: 100%|██████████| 1/1 [00:01<00:00,  1.26s/it]\u001b[A\n",
      " 97%|█████████▋| 2899/3000 [46:52<01:47,  1.06s/it]\n",
      "Processed prompts:   0%|          | 0/1 [00:00<?, ?it/s]\u001b[A\n",
      "Processed prompts: 100%|██████████| 1/1 [00:00<00:00,  1.34it/s]\u001b[A\n",
      " 97%|█████████▋| 2900/3000 [46:53<01:36,  1.03it/s]\n",
      "Processed prompts:   0%|          | 0/1 [00:00<?, ?it/s]\u001b[A\n",
      "Processed prompts: 100%|██████████| 1/1 [00:00<00:00,  1.79it/s]\u001b[A\n",
      " 97%|█████████▋| 2901/3000 [46:54<01:23,  1.18it/s]\n",
      "Processed prompts:   0%|          | 0/1 [00:00<?, ?it/s]\u001b[A\n",
      "Processed prompts: 100%|██████████| 1/1 [00:00<00:00,  1.53it/s]\u001b[A\n",
      " 97%|█████████▋| 2902/3000 [46:54<01:17,  1.26it/s]\n",
      "Processed prompts:   0%|          | 0/1 [00:00<?, ?it/s]\u001b[A\n",
      "Processed prompts: 100%|██████████| 1/1 [00:01<00:00,  1.19s/it]\u001b[A\n",
      " 97%|█████████▋| 2903/3000 [46:55<01:28,  1.10it/s]\n",
      "Processed prompts:   0%|          | 0/1 [00:00<?, ?it/s]\u001b[A\n",
      "Processed prompts: 100%|██████████| 1/1 [00:01<00:00,  1.03s/it]\u001b[A\n",
      " 97%|█████████▋| 2904/3000 [46:57<01:31,  1.05it/s]\n",
      "Processed prompts:   0%|          | 0/1 [00:00<?, ?it/s]\u001b[A\n",
      "Processed prompts: 100%|██████████| 1/1 [00:01<00:00,  1.33s/it]\u001b[A\n",
      " 97%|█████████▋| 2905/3000 [46:58<01:41,  1.07s/it]\n",
      "Processed prompts:   0%|          | 0/1 [00:00<?, ?it/s]\u001b[A\n",
      "Processed prompts: 100%|██████████| 1/1 [00:01<00:00,  1.08s/it]\u001b[A\n",
      " 97%|█████████▋| 2906/3000 [46:59<01:40,  1.07s/it]\n",
      "Processed prompts:   0%|          | 0/1 [00:00<?, ?it/s]\u001b[A\n",
      "Processed prompts: 100%|██████████| 1/1 [00:01<00:00,  1.06s/it]\u001b[A\n",
      " 97%|█████████▋| 2907/3000 [47:00<01:39,  1.07s/it]\n",
      "Processed prompts:   0%|          | 0/1 [00:00<?, ?it/s]\u001b[A\n",
      "Processed prompts: 100%|██████████| 1/1 [00:01<00:00,  1.30s/it]\u001b[A\n",
      " 97%|█████████▋| 2908/3000 [47:01<01:44,  1.14s/it]\n",
      "Processed prompts:   0%|          | 0/1 [00:00<?, ?it/s]\u001b[A\n",
      "Processed prompts: 100%|██████████| 1/1 [00:01<00:00,  1.19s/it]\u001b[A\n",
      " 97%|█████████▋| 2909/3000 [47:03<01:45,  1.16s/it]\n",
      "Processed prompts:   0%|          | 0/1 [00:00<?, ?it/s]\u001b[A\n",
      "Processed prompts: 100%|██████████| 1/1 [00:01<00:00,  1.02s/it]\u001b[A\n",
      " 97%|█████████▋| 2910/3000 [47:04<01:40,  1.12s/it]\n",
      "Processed prompts:   0%|          | 0/1 [00:00<?, ?it/s]\u001b[A\n",
      "Processed prompts: 100%|██████████| 1/1 [00:00<00:00,  1.21it/s]\u001b[A\n",
      " 97%|█████████▋| 2911/3000 [47:04<01:31,  1.03s/it]\n",
      "Processed prompts:   0%|          | 0/1 [00:00<?, ?it/s]\u001b[A\n",
      "Processed prompts: 100%|██████████| 1/1 [00:01<00:00,  1.21s/it]\u001b[A\n",
      " 97%|█████████▋| 2912/3000 [47:06<01:35,  1.09s/it]\n",
      "Processed prompts:   0%|          | 0/1 [00:00<?, ?it/s]\u001b[A\n",
      "Processed prompts: 100%|██████████| 1/1 [00:00<00:00,  1.09it/s]\u001b[A\n",
      " 97%|█████████▋| 2913/3000 [47:07<01:30,  1.04s/it]\n",
      "Processed prompts:   0%|          | 0/1 [00:00<?, ?it/s]\u001b[A\n",
      "Processed prompts: 100%|██████████| 1/1 [00:00<00:00,  1.12it/s]\u001b[A\n",
      " 97%|█████████▋| 2914/3000 [47:07<01:25,  1.00it/s]\n",
      "Processed prompts:   0%|          | 0/1 [00:00<?, ?it/s]\u001b[A\n",
      "Processed prompts: 100%|██████████| 1/1 [00:01<00:00,  1.33s/it]\u001b[A\n",
      " 97%|█████████▋| 2915/3000 [47:09<01:33,  1.10s/it]\n",
      "Processed prompts:   0%|          | 0/1 [00:00<?, ?it/s]\u001b[A\n",
      "Processed prompts: 100%|██████████| 1/1 [00:00<00:00,  1.12it/s]\u001b[A\n",
      " 97%|█████████▋| 2916/3000 [47:10<01:27,  1.04s/it]\n",
      "Processed prompts:   0%|          | 0/1 [00:00<?, ?it/s]\u001b[A\n",
      "Processed prompts: 100%|██████████| 1/1 [00:00<00:00,  1.14it/s]\u001b[A\n",
      " 97%|█████████▋| 2917/3000 [47:11<01:22,  1.01it/s]\n",
      "Processed prompts:   0%|          | 0/1 [00:00<?, ?it/s]\u001b[A\n",
      "Processed prompts: 100%|██████████| 1/1 [00:01<00:00,  1.23s/it]\u001b[A\n",
      " 97%|█████████▋| 2918/3000 [47:12<01:27,  1.07s/it]\n",
      "Processed prompts:   0%|          | 0/1 [00:00<?, ?it/s]\u001b[A\n",
      "Processed prompts: 100%|██████████| 1/1 [00:00<00:00,  1.20it/s]\u001b[A\n",
      " 97%|█████████▋| 2919/3000 [47:13<01:20,  1.00it/s]\n",
      "Processed prompts:   0%|          | 0/1 [00:00<?, ?it/s]\u001b[A\n",
      "Processed prompts: 100%|██████████| 1/1 [00:00<00:00,  1.13it/s]\u001b[A\n",
      " 97%|█████████▋| 2920/3000 [47:14<01:17,  1.03it/s]\n",
      "Processed prompts:   0%|          | 0/1 [00:00<?, ?it/s]\u001b[A\n",
      "Processed prompts: 100%|██████████| 1/1 [00:01<00:00,  1.45s/it]\u001b[A\n",
      " 97%|█████████▋| 2921/3000 [47:15<01:28,  1.12s/it]\n",
      "Processed prompts:   0%|          | 0/1 [00:00<?, ?it/s]\u001b[A\n",
      "Processed prompts: 100%|██████████| 1/1 [00:01<00:00,  1.05s/it]\u001b[A\n",
      " 97%|█████████▋| 2922/3000 [47:16<01:25,  1.10s/it]\n",
      "Processed prompts:   0%|          | 0/1 [00:00<?, ?it/s]\u001b[A\n",
      "Processed prompts: 100%|██████████| 1/1 [00:01<00:00,  1.18s/it]\u001b[A\n",
      " 97%|█████████▋| 2923/3000 [47:17<01:26,  1.12s/it]\n",
      "Processed prompts:   0%|          | 0/1 [00:00<?, ?it/s]\u001b[A\n",
      "Processed prompts: 100%|██████████| 1/1 [00:01<00:00,  1.58s/it]\u001b[A\n",
      " 97%|█████████▋| 2924/3000 [47:19<01:36,  1.26s/it]\n",
      "Processed prompts:   0%|          | 0/1 [00:00<?, ?it/s]\u001b[A\n",
      "Processed prompts: 100%|██████████| 1/1 [00:00<00:00,  1.47it/s]\u001b[A\n",
      " 98%|█████████▊| 2925/3000 [47:20<01:22,  1.09s/it]\n",
      "Processed prompts:   0%|          | 0/1 [00:00<?, ?it/s]\u001b[A\n",
      "Processed prompts: 100%|██████████| 1/1 [00:00<00:00,  1.16it/s]\u001b[A\n",
      " 98%|█████████▊| 2926/3000 [47:20<01:15,  1.03s/it]\n",
      "Processed prompts:   0%|          | 0/1 [00:00<?, ?it/s]\u001b[A\n",
      "Processed prompts: 100%|██████████| 1/1 [00:00<00:00,  1.63it/s]\u001b[A\n",
      " 98%|█████████▊| 2927/3000 [47:21<01:06,  1.11it/s]\n",
      "Processed prompts:   0%|          | 0/1 [00:00<?, ?it/s]\u001b[A\n",
      "Processed prompts: 100%|██████████| 1/1 [00:01<00:00,  1.87s/it]\u001b[A\n",
      " 98%|█████████▊| 2928/3000 [47:23<01:26,  1.20s/it]\n",
      "Processed prompts:   0%|          | 0/1 [00:00<?, ?it/s]\u001b[A\n",
      "Processed prompts: 100%|██████████| 1/1 [00:00<00:00,  1.53it/s]\u001b[A\n",
      " 98%|█████████▊| 2929/3000 [47:24<01:13,  1.03s/it]\n",
      "Processed prompts:   0%|          | 0/1 [00:00<?, ?it/s]\u001b[A\n",
      "Processed prompts: 100%|██████████| 1/1 [00:00<00:00,  1.11it/s]\u001b[A\n",
      " 98%|█████████▊| 2930/3000 [47:24<01:09,  1.00it/s]\n",
      "Processed prompts:   0%|          | 0/1 [00:00<?, ?it/s]\u001b[A\n",
      "Processed prompts: 100%|██████████| 1/1 [00:01<00:00,  1.33s/it]\u001b[A\n",
      " 98%|█████████▊| 2931/3000 [47:26<01:15,  1.10s/it]\n",
      "Processed prompts:   0%|          | 0/1 [00:00<?, ?it/s]\u001b[A\n",
      "Processed prompts: 100%|██████████| 1/1 [00:00<00:00,  1.28it/s]\u001b[A\n",
      " 98%|█████████▊| 2932/3000 [47:27<01:08,  1.00s/it]\n",
      "Processed prompts:   0%|          | 0/1 [00:00<?, ?it/s]\u001b[A\n",
      "Processed prompts: 100%|██████████| 1/1 [00:01<00:00,  1.09s/it]\u001b[A\n",
      " 98%|█████████▊| 2933/3000 [47:28<01:09,  1.03s/it]\n",
      "Processed prompts:   0%|          | 0/1 [00:00<?, ?it/s]\u001b[A\n",
      "Processed prompts: 100%|██████████| 1/1 [00:00<00:00,  1.02it/s]\u001b[A\n",
      " 98%|█████████▊| 2934/3000 [47:29<01:07,  1.02s/it]\n",
      "Processed prompts:   0%|          | 0/1 [00:00<?, ?it/s]\u001b[A\n",
      "Processed prompts: 100%|██████████| 1/1 [00:01<00:00,  1.27s/it]\u001b[A\n",
      " 98%|█████████▊| 2935/3000 [47:30<01:11,  1.10s/it]\n",
      "Processed prompts:   0%|          | 0/1 [00:00<?, ?it/s]\u001b[A\n",
      "Processed prompts: 100%|██████████| 1/1 [00:01<00:00,  1.38s/it]\u001b[A\n",
      " 98%|█████████▊| 2936/3000 [47:31<01:15,  1.18s/it]\n",
      "Processed prompts:   0%|          | 0/1 [00:00<?, ?it/s]\u001b[A\n",
      "Processed prompts: 100%|██████████| 1/1 [00:00<00:00,  2.52it/s]\u001b[A\n",
      " 98%|█████████▊| 2937/3000 [47:32<00:59,  1.05it/s]\n",
      "Processed prompts:   0%|          | 0/1 [00:00<?, ?it/s]\u001b[A\n",
      "Processed prompts: 100%|██████████| 1/1 [00:00<00:00,  1.12it/s]\u001b[A\n",
      " 98%|█████████▊| 2938/3000 [47:33<00:58,  1.06it/s]\n",
      "Processed prompts:   0%|          | 0/1 [00:00<?, ?it/s]\u001b[A\n",
      "Processed prompts: 100%|██████████| 1/1 [00:00<00:00,  1.28it/s]\u001b[A\n",
      " 98%|█████████▊| 2939/3000 [47:33<00:54,  1.12it/s]\n",
      "Processed prompts:   0%|          | 0/1 [00:00<?, ?it/s]\u001b[A\n",
      "Processed prompts: 100%|██████████| 1/1 [00:00<00:00,  1.34it/s]\u001b[A\n",
      " 98%|█████████▊| 2940/3000 [47:34<00:51,  1.17it/s]\n",
      "Processed prompts:   0%|          | 0/1 [00:00<?, ?it/s]\u001b[A\n",
      "Processed prompts: 100%|██████████| 1/1 [00:01<00:00,  1.98s/it]\u001b[A\n",
      " 98%|█████████▊| 2941/3000 [47:36<01:10,  1.19s/it]\n",
      "Processed prompts:   0%|          | 0/1 [00:00<?, ?it/s]\u001b[A\n",
      "Processed prompts: 100%|██████████| 1/1 [00:01<00:00,  1.12s/it]\u001b[A\n",
      " 98%|█████████▊| 2942/3000 [47:37<01:07,  1.17s/it]\n",
      "Processed prompts:   0%|          | 0/1 [00:00<?, ?it/s]\u001b[A\n",
      "Processed prompts: 100%|██████████| 1/1 [00:00<00:00,  1.57it/s]\u001b[A\n",
      " 98%|█████████▊| 2943/3000 [47:38<00:57,  1.01s/it]\n",
      "Processed prompts:   0%|          | 0/1 [00:00<?, ?it/s]\u001b[A\n",
      "Processed prompts: 100%|██████████| 1/1 [00:01<00:00,  1.21s/it]\u001b[A\n",
      " 98%|█████████▊| 2944/3000 [47:39<01:00,  1.08s/it]\n",
      "Processed prompts:   0%|          | 0/1 [00:00<?, ?it/s]\u001b[A\n",
      "Processed prompts: 100%|██████████| 1/1 [00:01<00:00,  1.08s/it]\u001b[A\n",
      " 98%|█████████▊| 2945/3000 [47:40<00:59,  1.08s/it]\n",
      "Processed prompts:   0%|          | 0/1 [00:00<?, ?it/s]\u001b[A\n",
      "Processed prompts: 100%|██████████| 1/1 [00:01<00:00,  1.06s/it]\u001b[A\n",
      " 98%|█████████▊| 2946/3000 [47:41<00:58,  1.08s/it]\n",
      "Processed prompts:   0%|          | 0/1 [00:00<?, ?it/s]\u001b[A\n",
      "Processed prompts: 100%|██████████| 1/1 [00:01<00:00,  1.18s/it]\u001b[A\n",
      " 98%|█████████▊| 2947/3000 [47:42<00:58,  1.11s/it]\n",
      "Processed prompts:   0%|          | 0/1 [00:00<?, ?it/s]\u001b[A\n",
      "Processed prompts: 100%|██████████| 1/1 [00:00<00:00,  1.10it/s]\u001b[A\n",
      " 98%|█████████▊| 2948/3000 [47:43<00:54,  1.05s/it]\n",
      "Processed prompts:   0%|          | 0/1 [00:00<?, ?it/s]\u001b[A\n",
      "Processed prompts: 100%|██████████| 1/1 [00:00<00:00,  1.05it/s]\u001b[A\n",
      " 98%|█████████▊| 2949/3000 [47:44<00:52,  1.02s/it]\n",
      "Processed prompts:   0%|          | 0/1 [00:00<?, ?it/s]\u001b[A\n",
      "Processed prompts: 100%|██████████| 1/1 [00:00<00:00,  1.36it/s]\u001b[A\n",
      " 98%|█████████▊| 2950/3000 [47:45<00:46,  1.07it/s]\n",
      "Processed prompts:   0%|          | 0/1 [00:00<?, ?it/s]\u001b[A\n",
      "Processed prompts: 100%|██████████| 1/1 [00:00<00:00,  1.10it/s]\u001b[A\n",
      " 98%|█████████▊| 2951/3000 [47:46<00:45,  1.07it/s]\n",
      "Processed prompts:   0%|          | 0/1 [00:00<?, ?it/s]\u001b[A\n",
      "Processed prompts: 100%|██████████| 1/1 [00:00<00:00,  1.31it/s]\u001b[A\n",
      " 98%|█████████▊| 2952/3000 [47:47<00:42,  1.13it/s]\n",
      "Processed prompts:   0%|          | 0/1 [00:00<?, ?it/s]\u001b[A\n",
      "Processed prompts: 100%|██████████| 1/1 [00:01<00:00,  1.20s/it]\u001b[A\n",
      " 98%|█████████▊| 2953/3000 [47:48<00:46,  1.02it/s]\n",
      "Processed prompts:   0%|          | 0/1 [00:00<?, ?it/s]\u001b[A\n",
      "Processed prompts: 100%|██████████| 1/1 [00:01<00:00,  1.36s/it]\u001b[A\n",
      " 98%|█████████▊| 2954/3000 [47:49<00:50,  1.10s/it]\n",
      "Processed prompts:   0%|          | 0/1 [00:00<?, ?it/s]\u001b[A\n",
      "Processed prompts: 100%|██████████| 1/1 [00:01<00:00,  1.23s/it]\u001b[A\n",
      " 98%|█████████▊| 2955/3000 [47:51<00:51,  1.14s/it]\n",
      "Processed prompts:   0%|          | 0/1 [00:00<?, ?it/s]\u001b[A\n",
      "Processed prompts: 100%|██████████| 1/1 [00:01<00:00,  1.51s/it]\u001b[A\n",
      " 99%|█████████▊| 2956/3000 [47:52<00:55,  1.26s/it]\n",
      "Processed prompts:   0%|          | 0/1 [00:00<?, ?it/s]\u001b[A\n",
      "Processed prompts: 100%|██████████| 1/1 [00:01<00:00,  1.29s/it]\u001b[A\n",
      " 99%|█████████▊| 2957/3000 [47:53<00:54,  1.27s/it]\n",
      "Processed prompts:   0%|          | 0/1 [00:00<?, ?it/s]\u001b[A\n",
      "Processed prompts: 100%|██████████| 1/1 [00:01<00:00,  1.31s/it]\u001b[A\n",
      " 99%|█████████▊| 2958/3000 [47:55<00:53,  1.28s/it]\n",
      "Processed prompts:   0%|          | 0/1 [00:00<?, ?it/s]\u001b[A\n",
      "Processed prompts: 100%|██████████| 1/1 [00:00<00:00,  1.96it/s]\u001b[A\n",
      " 99%|█████████▊| 2959/3000 [47:55<00:43,  1.05s/it]\n",
      "Processed prompts:   0%|          | 0/1 [00:00<?, ?it/s]\u001b[A\n",
      "Processed prompts: 100%|██████████| 1/1 [00:01<00:00,  1.08s/it]\u001b[A\n",
      " 99%|█████████▊| 2960/3000 [47:56<00:42,  1.06s/it]\n",
      "Processed prompts:   0%|          | 0/1 [00:00<?, ?it/s]\u001b[A\n",
      "Processed prompts: 100%|██████████| 1/1 [00:01<00:00,  1.14s/it]\u001b[A\n",
      " 99%|█████████▊| 2961/3000 [47:57<00:42,  1.09s/it]\n",
      "Processed prompts:   0%|          | 0/1 [00:00<?, ?it/s]\u001b[A\n",
      "Processed prompts: 100%|██████████| 1/1 [00:01<00:00,  1.51s/it]\u001b[A\n",
      " 99%|█████████▊| 2962/3000 [47:59<00:46,  1.22s/it]\n",
      "Processed prompts:   0%|          | 0/1 [00:00<?, ?it/s]\u001b[A\n",
      "Processed prompts: 100%|██████████| 1/1 [00:01<00:00,  1.06s/it]\u001b[A\n",
      " 99%|█████████▉| 2963/3000 [48:00<00:43,  1.17s/it]\n",
      "Processed prompts:   0%|          | 0/1 [00:00<?, ?it/s]\u001b[A\n",
      "Processed prompts: 100%|██████████| 1/1 [00:01<00:00,  1.54s/it]\u001b[A\n",
      " 99%|█████████▉| 2964/3000 [48:02<00:46,  1.29s/it]\n",
      "Processed prompts:   0%|          | 0/1 [00:00<?, ?it/s]\u001b[A\n",
      "Processed prompts: 100%|██████████| 1/1 [00:01<00:00,  1.14s/it]\u001b[A\n",
      " 99%|█████████▉| 2965/3000 [48:03<00:43,  1.24s/it]\n",
      "Processed prompts:   0%|          | 0/1 [00:00<?, ?it/s]\u001b[A\n",
      "Processed prompts: 100%|██████████| 1/1 [00:01<00:00,  1.05s/it]\u001b[A\n",
      " 99%|█████████▉| 2966/3000 [48:04<00:40,  1.19s/it]\n",
      "Processed prompts:   0%|          | 0/1 [00:00<?, ?it/s]\u001b[A\n",
      "Processed prompts: 100%|██████████| 1/1 [00:01<00:00,  1.08s/it]\u001b[A\n",
      " 99%|█████████▉| 2967/3000 [48:05<00:38,  1.15s/it]\n",
      "Processed prompts:   0%|          | 0/1 [00:00<?, ?it/s]\u001b[A\n",
      "Processed prompts: 100%|██████████| 1/1 [00:01<00:00,  1.33s/it]\u001b[A\n",
      " 99%|█████████▉| 2968/3000 [48:06<00:38,  1.21s/it]\n",
      "Processed prompts:   0%|          | 0/1 [00:00<?, ?it/s]\u001b[A\n",
      "Processed prompts: 100%|██████████| 1/1 [00:00<00:00,  1.20it/s]\u001b[A\n",
      " 99%|█████████▉| 2969/3000 [48:07<00:34,  1.12s/it]\n",
      "Processed prompts:   0%|          | 0/1 [00:00<?, ?it/s]\u001b[A\n",
      "Processed prompts: 100%|██████████| 1/1 [00:01<00:00,  1.51s/it]\u001b[A\n",
      " 99%|█████████▉| 2970/3000 [48:09<00:37,  1.24s/it]\n",
      "Processed prompts:   0%|          | 0/1 [00:00<?, ?it/s]\u001b[A\n",
      "Processed prompts: 100%|██████████| 1/1 [00:01<00:00,  1.68s/it]\u001b[A\n",
      " 99%|█████████▉| 2971/3000 [48:10<00:39,  1.37s/it]\n",
      "Processed prompts:   0%|          | 0/1 [00:00<?, ?it/s]\u001b[A\n",
      "Processed prompts: 100%|██████████| 1/1 [00:01<00:00,  1.27s/it]\u001b[A\n",
      " 99%|█████████▉| 2972/3000 [48:12<00:37,  1.35s/it]\n",
      "Processed prompts:   0%|          | 0/1 [00:00<?, ?it/s]\u001b[A\n",
      "Processed prompts: 100%|██████████| 1/1 [00:00<00:00,  1.68it/s]\u001b[A\n",
      " 99%|█████████▉| 2973/3000 [48:12<00:30,  1.13s/it]\n",
      "Processed prompts:   0%|          | 0/1 [00:00<?, ?it/s]\u001b[A\n",
      "Processed prompts: 100%|██████████| 1/1 [00:01<00:00,  1.47s/it]\u001b[A\n",
      " 99%|█████████▉| 2974/3000 [48:14<00:32,  1.24s/it]\n",
      "Processed prompts:   0%|          | 0/1 [00:00<?, ?it/s]\u001b[A\n",
      "Processed prompts: 100%|██████████| 1/1 [00:00<00:00,  1.13it/s]\u001b[A\n",
      " 99%|█████████▉| 2975/3000 [48:15<00:28,  1.14s/it]\n",
      "Processed prompts:   0%|          | 0/1 [00:00<?, ?it/s]\u001b[A\n",
      "Processed prompts: 100%|██████████| 1/1 [00:02<00:00,  2.07s/it]\u001b[A\n",
      " 99%|█████████▉| 2976/3000 [48:17<00:34,  1.42s/it]\n",
      "Processed prompts:   0%|          | 0/1 [00:00<?, ?it/s]\u001b[A\n",
      "Processed prompts: 100%|██████████| 1/1 [00:01<00:00,  1.03s/it]\u001b[A\n",
      " 99%|█████████▉| 2977/3000 [48:18<00:30,  1.31s/it]\n",
      "Processed prompts:   0%|          | 0/1 [00:00<?, ?it/s]\u001b[A\n",
      "Processed prompts: 100%|██████████| 1/1 [00:00<00:00,  1.28it/s]\u001b[A\n",
      " 99%|█████████▉| 2978/3000 [48:19<00:25,  1.15s/it]\n",
      "Processed prompts:   0%|          | 0/1 [00:00<?, ?it/s]\u001b[A\n",
      "Processed prompts: 100%|██████████| 1/1 [00:01<00:00,  1.02s/it]\u001b[A\n",
      " 99%|█████████▉| 2979/3000 [48:20<00:23,  1.12s/it]\n",
      "Processed prompts:   0%|          | 0/1 [00:00<?, ?it/s]\u001b[A\n",
      "Processed prompts: 100%|██████████| 1/1 [00:00<00:00,  1.39it/s]\u001b[A\n",
      " 99%|█████████▉| 2980/3000 [48:20<00:20,  1.02s/it]\n",
      "Processed prompts:   0%|          | 0/1 [00:00<?, ?it/s]\u001b[A\n",
      "Processed prompts: 100%|██████████| 1/1 [00:01<00:00,  1.66s/it]\u001b[A\n",
      " 99%|█████████▉| 2981/3000 [48:22<00:23,  1.22s/it]\n",
      "Processed prompts:   0%|          | 0/1 [00:00<?, ?it/s]\u001b[A\n",
      "Processed prompts: 100%|██████████| 1/1 [00:01<00:00,  1.68s/it]\u001b[A\n",
      " 99%|█████████▉| 2982/3000 [48:24<00:24,  1.36s/it]\n",
      "Processed prompts:   0%|          | 0/1 [00:00<?, ?it/s]\u001b[A\n",
      "Processed prompts: 100%|██████████| 1/1 [00:01<00:00,  1.45s/it]\u001b[A\n",
      " 99%|█████████▉| 2983/3000 [48:25<00:23,  1.39s/it]\n",
      "Processed prompts:   0%|          | 0/1 [00:00<?, ?it/s]\u001b[A\n",
      "Processed prompts: 100%|██████████| 1/1 [00:02<00:00,  2.11s/it]\u001b[A\n",
      " 99%|█████████▉| 2984/3000 [48:27<00:25,  1.61s/it]\n",
      "Processed prompts:   0%|          | 0/1 [00:00<?, ?it/s]\u001b[A\n",
      "Processed prompts: 100%|██████████| 1/1 [00:00<00:00,  1.14it/s]\u001b[A\n",
      "100%|█████████▉| 2985/3000 [48:28<00:21,  1.40s/it]\n",
      "Processed prompts:   0%|          | 0/1 [00:00<?, ?it/s]\u001b[A\n",
      "Processed prompts: 100%|██████████| 1/1 [00:00<00:00,  1.48it/s]\u001b[A\n",
      "100%|█████████▉| 2986/3000 [48:29<00:16,  1.19s/it]\n",
      "Processed prompts:   0%|          | 0/1 [00:00<?, ?it/s]\u001b[A\n",
      "Processed prompts: 100%|██████████| 1/1 [00:00<00:00,  1.12it/s]\u001b[A\n",
      "100%|█████████▉| 2987/3000 [48:30<00:14,  1.10s/it]\n",
      "Processed prompts:   0%|          | 0/1 [00:00<?, ?it/s]\u001b[A\n",
      "Processed prompts: 100%|██████████| 1/1 [00:00<00:00,  1.10it/s]\u001b[A\n",
      "100%|█████████▉| 2988/3000 [48:31<00:12,  1.05s/it]\n",
      "Processed prompts:   0%|          | 0/1 [00:00<?, ?it/s]\u001b[A\n",
      "Processed prompts: 100%|██████████| 1/1 [00:00<00:00,  1.01it/s]\u001b[A\n",
      "100%|█████████▉| 2989/3000 [48:32<00:11,  1.03s/it]\n",
      "Processed prompts:   0%|          | 0/1 [00:00<?, ?it/s]\u001b[A\n",
      "Processed prompts: 100%|██████████| 1/1 [00:00<00:00,  1.86it/s]\u001b[A\n",
      "100%|█████████▉| 2990/3000 [48:32<00:08,  1.12it/s]\n",
      "Processed prompts:   0%|          | 0/1 [00:00<?, ?it/s]\u001b[A\n",
      "Processed prompts: 100%|██████████| 1/1 [00:00<00:00,  1.04it/s]\u001b[A\n",
      "100%|█████████▉| 2991/3000 [48:33<00:08,  1.09it/s]\n",
      "Processed prompts:   0%|          | 0/1 [00:00<?, ?it/s]\u001b[A\n",
      "Processed prompts: 100%|██████████| 1/1 [00:00<00:00,  1.07it/s]\u001b[A\n",
      "100%|█████████▉| 2992/3000 [48:34<00:07,  1.08it/s]\n",
      "Processed prompts:   0%|          | 0/1 [00:00<?, ?it/s]\u001b[A\n",
      "Processed prompts: 100%|██████████| 1/1 [00:00<00:00,  1.61it/s]\u001b[A\n",
      "100%|█████████▉| 2993/3000 [48:35<00:05,  1.19it/s]\n",
      "Processed prompts:   0%|          | 0/1 [00:00<?, ?it/s]\u001b[A\n",
      "Processed prompts: 100%|██████████| 1/1 [00:00<00:00,  1.82it/s]\u001b[A\n",
      "100%|█████████▉| 2994/3000 [48:35<00:04,  1.33it/s]\n",
      "Processed prompts:   0%|          | 0/1 [00:00<?, ?it/s]\u001b[A\n",
      "Processed prompts: 100%|██████████| 1/1 [00:00<00:00,  1.09it/s]\u001b[A\n",
      "100%|█████████▉| 2995/3000 [48:36<00:04,  1.24it/s]\n",
      "Processed prompts:   0%|          | 0/1 [00:00<?, ?it/s]\u001b[A\n",
      "Processed prompts: 100%|██████████| 1/1 [00:01<00:00,  1.17s/it]\u001b[A\n",
      "100%|█████████▉| 2996/3000 [48:38<00:03,  1.08it/s]\n",
      "Processed prompts:   0%|          | 0/1 [00:00<?, ?it/s]\u001b[A\n",
      "Processed prompts: 100%|██████████| 1/1 [00:00<00:00,  1.15it/s]\u001b[A\n",
      "100%|█████████▉| 2997/3000 [48:38<00:02,  1.09it/s]\n",
      "Processed prompts:   0%|          | 0/1 [00:00<?, ?it/s]\u001b[A\n",
      "Processed prompts: 100%|██████████| 1/1 [00:01<00:00,  1.12s/it]\u001b[A\n",
      "100%|█████████▉| 2998/3000 [48:40<00:01,  1.02it/s]\n",
      "Processed prompts:   0%|          | 0/1 [00:00<?, ?it/s]\u001b[A\n",
      "Processed prompts: 100%|██████████| 1/1 [00:00<00:00,  1.77it/s]\u001b[A\n",
      "100%|█████████▉| 2999/3000 [48:40<00:00,  1.16it/s]\n",
      "Processed prompts:   0%|          | 0/1 [00:00<?, ?it/s]\u001b[A\n",
      "Processed prompts: 100%|██████████| 1/1 [00:00<00:00,  1.45it/s]\u001b[A\n",
      "100%|██████████| 3000/3000 [48:41<00:00,  1.03it/s]\n"
     ]
    }
   ],
   "source": [
    "for idx, row in tqdm(test.iterrows(), total=len(test)): \n",
    "    ## 没有映射走模型  \n",
    "    keywords_formatted_prompt = keywords_prompt_template.format(question=row.question, body=row.body) \n",
    "    response = generate_response(tokenizer, llm, sampling_params, keywords_formatted_prompt)[0]\n",
    "    test.loc[idx, 'keywords'] = response.replace('Keywords', '').replace('keywords', '').replace(':', '') "
   ]
  },
  {
   "cell_type": "code",
   "execution_count": 10,
   "id": "a00ce155-3e09-4b93-a5ba-f5e20b53b698",
   "metadata": {
    "tags": []
   },
   "outputs": [],
   "source": [
    "test.to_parquet('outslgb/test_with_aiResponse_withKeywords_by_glm9bVllmPost.parquet', index=False) "
   ]
  },
  {
   "cell_type": "code",
   "execution_count": null,
   "id": "f5e38157-77c1-4ebe-9d11-5dd7c29b3f94",
   "metadata": {},
   "outputs": [],
   "source": []
  }
 ],
 "metadata": {
  "kernelspec": {
   "display_name": "Python 3 (ipykernel)",
   "language": "python",
   "name": "python3"
  },
  "language_info": {
   "codemirror_mode": {
    "name": "ipython",
    "version": 3
   },
   "file_extension": ".py",
   "mimetype": "text/x-python",
   "name": "python",
   "nbconvert_exporter": "python",
   "pygments_lexer": "ipython3",
   "version": "3.10.14"
  }
 },
 "nbformat": 4,
 "nbformat_minor": 5
}
